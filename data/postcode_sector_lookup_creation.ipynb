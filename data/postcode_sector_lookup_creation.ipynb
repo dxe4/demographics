{
 "cells": [
  {
   "cell_type": "markdown",
   "metadata": {},
   "source": [
    "# Postcode sector lookup table\n",
    "Original data set was downloaded from https://opendata.camden.gov.uk/Maps/National-Statistics-Postcode-Lookup-UK/tr8t-gqz7/data which gives us data at a postcode level. However the work we'll be doing will be at a postcode sector level."
   ]
  },
  {
   "cell_type": "code",
   "execution_count": 1,
   "metadata": {},
   "outputs": [],
   "source": [
    "import pandas as pd\n",
    "import numpy as np\n",
    "national_lookup = pd.read_csv(\"National_Statistics_Postcode_Lookup_UK.csv\")"
   ]
  },
  {
   "cell_type": "code",
   "execution_count": 2,
   "metadata": {},
   "outputs": [],
   "source": [
    "# Add column with postcode sector. \n",
    "# Using 'Postcode 2' as 'Postcode 1' does not have spaces in them so for e.g. the first postcode 'SO166AW' it would not be clear if postcode \n",
    "# sector would be 'SO16 6' or 'SO1 66'.\n",
    "national_lookup = national_lookup.assign(\n",
    "    postcode_sector = [x[:-2] for x in national_lookup['Postcode 2']]\n",
    ")"
   ]
  },
  {
   "cell_type": "code",
   "execution_count": 3,
   "metadata": {},
   "outputs": [],
   "source": [
    "# Only include columns that are of use and remove duplicates\n",
    "postcode_sector_lookup = national_lookup[[\n",
    "    'County Code', 'County Name', 'Local Authority Code', 'Local Authority Name',\n",
    "       'Ward Code', 'Ward Name', 'Country Code', 'Country Name', 'Region Code',\n",
    "       'Region Name', 'Parliamentary Constituency Code',\n",
    "       'Parliamentary Constituency Name', 'European Electoral Region Code',\n",
    "       'European Electoral Region Name', 'postcode_sector'\n",
    "]].drop_duplicates()"
   ]
  },
  {
   "cell_type": "code",
   "execution_count": 4,
   "metadata": {},
   "outputs": [],
   "source": [
    "postcode_sector_lookup.to_csv('postcode_sector_lookup.csv', index = False)"
   ]
  },
  {
   "cell_type": "code",
   "execution_count": null,
   "metadata": {},
   "outputs": [],
   "source": []
  }
 ],
 "metadata": {
  "kernelspec": {
   "display_name": "Python 3",
   "language": "python",
   "name": "python3"
  },
  "language_info": {
   "codemirror_mode": {
    "name": "ipython",
    "version": 3
   },
   "file_extension": ".py",
   "mimetype": "text/x-python",
   "name": "python",
   "nbconvert_exporter": "python",
   "pygments_lexer": "ipython3",
   "version": "3.7.3"
  }
 },
 "nbformat": 4,
 "nbformat_minor": 2
}
